{
 "cells": [
  {
   "cell_type": "markdown",
   "metadata": {
    "colab_type": "text",
    "id": "tME5AefKPC4o"
   },
   "source": [
    "# Churn Case Study\n",
    "_The legacy of Bonnie Shen, Danielle Saunders, Jan Unel, and Eric Bragas_"
   ]
  },
  {
   "cell_type": "markdown",
   "metadata": {},
   "source": [
    "## Problem Statement\n",
    "A ride-sharing company is interested in predicting rider churn using a series of rider rating and behavior features. We'll explore this data, formulating questions to answer during the analysis, and provide a model to enable prediction of future rider churn events as well as infer the underlying characteristics that contribute to churn events. The business goal will then be to identify those likely to churn and take mitigating action either to company policy, or via targeted marketing. We'll see what the data tells us!\n",
    "\n",
    "This workbook will leverage the data pipelining abilities of `sklearn` to better enable a fast and consistent modeling process without exposing potential leakage. See the accompanying `pipeline.py` file for custom pipeline transformer definitions."
   ]
  },
  {
   "cell_type": "code",
   "execution_count": 8,
   "metadata": {
    "colab": {},
    "colab_type": "code",
    "id": "Pv7d7xtzS9im"
   },
   "outputs": [],
   "source": [
    "import pandas as pd\n",
    "import numpy as np\n",
    "import seaborn as sn\n",
    "import matplotlib.pyplot as plt"
   ]
  },
  {
   "cell_type": "markdown",
   "metadata": {},
   "source": [
    "## Loading Data and Deriving the Target"
   ]
  },
  {
   "cell_type": "markdown",
   "metadata": {},
   "source": [
    "The following pipeline will accept raw dataset and perform only the operations necessary to create the `churned` (target) field in our DataFrame. A second pipeline will be used later to perform addition feature transformations before training the model.\n",
    "\n",
    "We chose to break these operations up into separate pipelines because the second pipeline will also contain an estimator class which will both trained and used to make predictions. Here, we just want to derive the target feature so it can be viewed and separated before training. Transformations at this step include:\n",
    "* Setting data types of features required to derive the target variable\n",
    "* Deriving features as steps towards creating the target e.g. calculating date differences\n",
    "* Filtering the whole data set if necessary"
   ]
  },
  {
   "cell_type": "code",
   "execution_count": 9,
   "metadata": {},
   "outputs": [],
   "source": [
    "from sklearn.pipeline import Pipeline\n",
    "from src.pipeline import SetDataTypesTransformer\n",
    "from src.pipeline import GenPredictorTransformer"
   ]
  },
  {
   "cell_type": "markdown",
   "metadata": {},
   "source": [
    "Load and inspect the raw training data."
   ]
  },
  {
   "cell_type": "code",
   "execution_count": 10,
   "metadata": {
    "colab": {
     "base_uri": "https://localhost:8080/",
     "height": 204
    },
    "colab_type": "code",
    "id": "QgC3tBzhT71A",
    "outputId": "6f34d2d2-b795-494e-af42-43f70257f3dd"
   },
   "outputs": [
    {
     "data": {
      "text/html": [
       "<div>\n",
       "<style>\n",
       "    .dataframe thead tr:only-child th {\n",
       "        text-align: right;\n",
       "    }\n",
       "\n",
       "    .dataframe thead th {\n",
       "        text-align: left;\n",
       "    }\n",
       "\n",
       "    .dataframe tbody tr th {\n",
       "        vertical-align: top;\n",
       "    }\n",
       "</style>\n",
       "<table border=\"1\" class=\"dataframe\">\n",
       "  <thead>\n",
       "    <tr style=\"text-align: right;\">\n",
       "      <th></th>\n",
       "      <th>avg_dist</th>\n",
       "      <th>avg_rating_by_driver</th>\n",
       "      <th>avg_rating_of_driver</th>\n",
       "      <th>avg_surge</th>\n",
       "      <th>city</th>\n",
       "      <th>last_trip_date</th>\n",
       "      <th>phone</th>\n",
       "      <th>signup_date</th>\n",
       "      <th>surge_pct</th>\n",
       "      <th>trips_in_first_30_days</th>\n",
       "      <th>luxury_car_user</th>\n",
       "      <th>weekday_pct</th>\n",
       "    </tr>\n",
       "  </thead>\n",
       "  <tbody>\n",
       "    <tr>\n",
       "      <th>0</th>\n",
       "      <td>6.94</td>\n",
       "      <td>5.0</td>\n",
       "      <td>5.0</td>\n",
       "      <td>1.00</td>\n",
       "      <td>Astapor</td>\n",
       "      <td>2014-05-03</td>\n",
       "      <td>Android</td>\n",
       "      <td>2014-01-12</td>\n",
       "      <td>0.0</td>\n",
       "      <td>0</td>\n",
       "      <td>False</td>\n",
       "      <td>100.0</td>\n",
       "    </tr>\n",
       "    <tr>\n",
       "      <th>1</th>\n",
       "      <td>8.06</td>\n",
       "      <td>5.0</td>\n",
       "      <td>5.0</td>\n",
       "      <td>1.00</td>\n",
       "      <td>Astapor</td>\n",
       "      <td>2014-01-26</td>\n",
       "      <td>Android</td>\n",
       "      <td>2014-01-25</td>\n",
       "      <td>0.0</td>\n",
       "      <td>2</td>\n",
       "      <td>True</td>\n",
       "      <td>0.0</td>\n",
       "    </tr>\n",
       "    <tr>\n",
       "      <th>2</th>\n",
       "      <td>21.50</td>\n",
       "      <td>4.0</td>\n",
       "      <td>NaN</td>\n",
       "      <td>1.00</td>\n",
       "      <td>Winterfell</td>\n",
       "      <td>2014-05-21</td>\n",
       "      <td>iPhone</td>\n",
       "      <td>2014-01-02</td>\n",
       "      <td>0.0</td>\n",
       "      <td>1</td>\n",
       "      <td>True</td>\n",
       "      <td>100.0</td>\n",
       "    </tr>\n",
       "    <tr>\n",
       "      <th>3</th>\n",
       "      <td>9.46</td>\n",
       "      <td>5.0</td>\n",
       "      <td>NaN</td>\n",
       "      <td>2.75</td>\n",
       "      <td>Winterfell</td>\n",
       "      <td>2014-01-10</td>\n",
       "      <td>Android</td>\n",
       "      <td>2014-01-09</td>\n",
       "      <td>100.0</td>\n",
       "      <td>1</td>\n",
       "      <td>False</td>\n",
       "      <td>100.0</td>\n",
       "    </tr>\n",
       "    <tr>\n",
       "      <th>4</th>\n",
       "      <td>13.77</td>\n",
       "      <td>5.0</td>\n",
       "      <td>NaN</td>\n",
       "      <td>1.00</td>\n",
       "      <td>Winterfell</td>\n",
       "      <td>2014-05-13</td>\n",
       "      <td>iPhone</td>\n",
       "      <td>2014-01-31</td>\n",
       "      <td>0.0</td>\n",
       "      <td>0</td>\n",
       "      <td>False</td>\n",
       "      <td>100.0</td>\n",
       "    </tr>\n",
       "  </tbody>\n",
       "</table>\n",
       "</div>"
      ],
      "text/plain": [
       "   avg_dist  avg_rating_by_driver  avg_rating_of_driver  avg_surge  \\\n",
       "0      6.94                   5.0                   5.0       1.00   \n",
       "1      8.06                   5.0                   5.0       1.00   \n",
       "2     21.50                   4.0                   NaN       1.00   \n",
       "3      9.46                   5.0                   NaN       2.75   \n",
       "4     13.77                   5.0                   NaN       1.00   \n",
       "\n",
       "         city last_trip_date    phone signup_date  surge_pct  \\\n",
       "0     Astapor     2014-05-03  Android  2014-01-12        0.0   \n",
       "1     Astapor     2014-01-26  Android  2014-01-25        0.0   \n",
       "2  Winterfell     2014-05-21   iPhone  2014-01-02        0.0   \n",
       "3  Winterfell     2014-01-10  Android  2014-01-09      100.0   \n",
       "4  Winterfell     2014-05-13   iPhone  2014-01-31        0.0   \n",
       "\n",
       "   trips_in_first_30_days  luxury_car_user  weekday_pct  \n",
       "0                       0            False        100.0  \n",
       "1                       2             True          0.0  \n",
       "2                       1             True        100.0  \n",
       "3                       1            False        100.0  \n",
       "4                       0            False        100.0  "
      ]
     },
     "execution_count": 10,
     "metadata": {},
     "output_type": "execute_result"
    }
   ],
   "source": [
    "all_data = pd.read_csv('data/churn_train.csv')\n",
    "all_data.head()"
   ]
  },
  {
   "cell_type": "markdown",
   "metadata": {},
   "source": [
    "Derive the target feature using our pipeline and inspect the results.\n",
    "\n",
    "The most important things to note are the new `churned`, `inactive_timedelta`, `inactive_days`, and `today_dt` fields."
   ]
  },
  {
   "cell_type": "code",
   "execution_count": 11,
   "metadata": {},
   "outputs": [
    {
     "data": {
      "text/html": [
       "<div>\n",
       "<style>\n",
       "    .dataframe thead tr:only-child th {\n",
       "        text-align: right;\n",
       "    }\n",
       "\n",
       "    .dataframe thead th {\n",
       "        text-align: left;\n",
       "    }\n",
       "\n",
       "    .dataframe tbody tr th {\n",
       "        vertical-align: top;\n",
       "    }\n",
       "</style>\n",
       "<table border=\"1\" class=\"dataframe\">\n",
       "  <thead>\n",
       "    <tr style=\"text-align: right;\">\n",
       "      <th></th>\n",
       "      <th>avg_dist</th>\n",
       "      <th>avg_rating_by_driver</th>\n",
       "      <th>avg_rating_of_driver</th>\n",
       "      <th>avg_surge</th>\n",
       "      <th>city</th>\n",
       "      <th>last_trip_date</th>\n",
       "      <th>phone</th>\n",
       "      <th>signup_date</th>\n",
       "      <th>surge_pct</th>\n",
       "      <th>trips_in_first_30_days</th>\n",
       "      <th>luxury_car_user</th>\n",
       "      <th>weekday_pct</th>\n",
       "      <th>last_trip_dt</th>\n",
       "      <th>signup_dt</th>\n",
       "      <th>today_dt</th>\n",
       "      <th>inactive_timedelta</th>\n",
       "      <th>inactive_days</th>\n",
       "      <th>churned</th>\n",
       "    </tr>\n",
       "  </thead>\n",
       "  <tbody>\n",
       "    <tr>\n",
       "      <th>0</th>\n",
       "      <td>6.94</td>\n",
       "      <td>5.0</td>\n",
       "      <td>5.0</td>\n",
       "      <td>1.00</td>\n",
       "      <td>Astapor</td>\n",
       "      <td>2014-05-03</td>\n",
       "      <td>Android</td>\n",
       "      <td>2014-01-12</td>\n",
       "      <td>0.0</td>\n",
       "      <td>0</td>\n",
       "      <td>0</td>\n",
       "      <td>100.0</td>\n",
       "      <td>2014-05-03</td>\n",
       "      <td>2014-01-12</td>\n",
       "      <td>2014-07-01</td>\n",
       "      <td>59 days</td>\n",
       "      <td>59</td>\n",
       "      <td>1.0</td>\n",
       "    </tr>\n",
       "    <tr>\n",
       "      <th>1</th>\n",
       "      <td>8.06</td>\n",
       "      <td>5.0</td>\n",
       "      <td>5.0</td>\n",
       "      <td>1.00</td>\n",
       "      <td>Astapor</td>\n",
       "      <td>2014-01-26</td>\n",
       "      <td>Android</td>\n",
       "      <td>2014-01-25</td>\n",
       "      <td>0.0</td>\n",
       "      <td>2</td>\n",
       "      <td>1</td>\n",
       "      <td>0.0</td>\n",
       "      <td>2014-01-26</td>\n",
       "      <td>2014-01-25</td>\n",
       "      <td>2014-07-01</td>\n",
       "      <td>156 days</td>\n",
       "      <td>156</td>\n",
       "      <td>1.0</td>\n",
       "    </tr>\n",
       "    <tr>\n",
       "      <th>2</th>\n",
       "      <td>21.50</td>\n",
       "      <td>4.0</td>\n",
       "      <td>NaN</td>\n",
       "      <td>1.00</td>\n",
       "      <td>Winterfell</td>\n",
       "      <td>2014-05-21</td>\n",
       "      <td>iPhone</td>\n",
       "      <td>2014-01-02</td>\n",
       "      <td>0.0</td>\n",
       "      <td>1</td>\n",
       "      <td>1</td>\n",
       "      <td>100.0</td>\n",
       "      <td>2014-05-21</td>\n",
       "      <td>2014-01-02</td>\n",
       "      <td>2014-07-01</td>\n",
       "      <td>41 days</td>\n",
       "      <td>41</td>\n",
       "      <td>1.0</td>\n",
       "    </tr>\n",
       "    <tr>\n",
       "      <th>3</th>\n",
       "      <td>9.46</td>\n",
       "      <td>5.0</td>\n",
       "      <td>NaN</td>\n",
       "      <td>2.75</td>\n",
       "      <td>Winterfell</td>\n",
       "      <td>2014-01-10</td>\n",
       "      <td>Android</td>\n",
       "      <td>2014-01-09</td>\n",
       "      <td>100.0</td>\n",
       "      <td>1</td>\n",
       "      <td>0</td>\n",
       "      <td>100.0</td>\n",
       "      <td>2014-01-10</td>\n",
       "      <td>2014-01-09</td>\n",
       "      <td>2014-07-01</td>\n",
       "      <td>172 days</td>\n",
       "      <td>172</td>\n",
       "      <td>1.0</td>\n",
       "    </tr>\n",
       "    <tr>\n",
       "      <th>4</th>\n",
       "      <td>13.77</td>\n",
       "      <td>5.0</td>\n",
       "      <td>NaN</td>\n",
       "      <td>1.00</td>\n",
       "      <td>Winterfell</td>\n",
       "      <td>2014-05-13</td>\n",
       "      <td>iPhone</td>\n",
       "      <td>2014-01-31</td>\n",
       "      <td>0.0</td>\n",
       "      <td>0</td>\n",
       "      <td>0</td>\n",
       "      <td>100.0</td>\n",
       "      <td>2014-05-13</td>\n",
       "      <td>2014-01-31</td>\n",
       "      <td>2014-07-01</td>\n",
       "      <td>49 days</td>\n",
       "      <td>49</td>\n",
       "      <td>1.0</td>\n",
       "    </tr>\n",
       "  </tbody>\n",
       "</table>\n",
       "</div>"
      ],
      "text/plain": [
       "   avg_dist  avg_rating_by_driver  avg_rating_of_driver  avg_surge  \\\n",
       "0      6.94                   5.0                   5.0       1.00   \n",
       "1      8.06                   5.0                   5.0       1.00   \n",
       "2     21.50                   4.0                   NaN       1.00   \n",
       "3      9.46                   5.0                   NaN       2.75   \n",
       "4     13.77                   5.0                   NaN       1.00   \n",
       "\n",
       "         city last_trip_date    phone signup_date  surge_pct  \\\n",
       "0     Astapor     2014-05-03  Android  2014-01-12        0.0   \n",
       "1     Astapor     2014-01-26  Android  2014-01-25        0.0   \n",
       "2  Winterfell     2014-05-21   iPhone  2014-01-02        0.0   \n",
       "3  Winterfell     2014-01-10  Android  2014-01-09      100.0   \n",
       "4  Winterfell     2014-05-13   iPhone  2014-01-31        0.0   \n",
       "\n",
       "   trips_in_first_30_days  luxury_car_user  weekday_pct last_trip_dt  \\\n",
       "0                       0                0        100.0   2014-05-03   \n",
       "1                       2                1          0.0   2014-01-26   \n",
       "2                       1                1        100.0   2014-05-21   \n",
       "3                       1                0        100.0   2014-01-10   \n",
       "4                       0                0        100.0   2014-05-13   \n",
       "\n",
       "   signup_dt   today_dt inactive_timedelta  inactive_days  churned  \n",
       "0 2014-01-12 2014-07-01            59 days             59      1.0  \n",
       "1 2014-01-25 2014-07-01           156 days            156      1.0  \n",
       "2 2014-01-02 2014-07-01            41 days             41      1.0  \n",
       "3 2014-01-09 2014-07-01           172 days            172      1.0  \n",
       "4 2014-01-31 2014-07-01            49 days             49      1.0  "
      ]
     },
     "execution_count": 11,
     "metadata": {},
     "output_type": "execute_result"
    }
   ],
   "source": [
    "target_pipe = Pipeline([\n",
    "    ('SetDataTypes', SetDataTypesTransformer()),\n",
    "    ('GenPredictor', GenPredictorTransformer())\n",
    "])\n",
    "\n",
    "all_data_target = target_pipe.fit_transform(all_data)\n",
    "all_data_target.head()"
   ]
  },
  {
   "cell_type": "markdown",
   "metadata": {},
   "source": [
    "Quick check of distribution of target class:"
   ]
  },
  {
   "cell_type": "code",
   "execution_count": 12,
   "metadata": {
    "colab": {
     "base_uri": "https://localhost:8080/",
     "height": 68
    },
    "colab_type": "code",
    "id": "-2Aignt3XAAu",
    "outputId": "b7f4c578-b3b8-4853-81d8-75b32a9b8196"
   },
   "outputs": [
    {
     "data": {
      "image/png": "[encoded data removed]",
      "text/plain": [
       "<Figure size 432x288 with 1 Axes>"
      ]
     },
     "metadata": {
      "needs_background": "light"
     },
     "output_type": "display_data"
    }
   ],
   "source": [
    "counts = all_data_target['churned'].value_counts()\n",
    "sn.barplot(counts.index, counts);"
   ]
  },
  {
   "cell_type": "markdown",
   "metadata": {},
   "source": [
    "The distribution of target classes isn't even, but it isn't so skewed that we need to use oversampling to compensate."
   ]
  },
  {
   "cell_type": "markdown",
   "metadata": {},
   "source": [
    "# Feature Cleaning and Model Tuning"
   ]
  },
  {
   "cell_type": "code",
   "execution_count": 13,
   "metadata": {},
   "outputs": [],
   "source": [
    "from sklearn.pipeline import Pipeline\n",
    "from sklearn.model_selection import GridSearchCV\n",
    "from sklearn.model_selection import train_test_split, cross_val_predict, cross_val_score\n",
    "from sklearn.metrics import classification_report, accuracy_score\n",
    "from xgboost import XGBClassifier\n",
    "\n",
    "from src.pipeline import FillTransformer\n",
    "from src.pipeline import OneHotTransformer\n",
    "from src.pipeline import SelectFeaturesTransformer\n",
    "from src.pipeline import DeriveFeaturesTransformer\n",
    "from src.pipeline import one_hot"
   ]
  },
  {
   "cell_type": "markdown",
   "metadata": {},
   "source": [
    "Reload the training data and derive the target again:"
   ]
  },
  {
   "cell_type": "code",
   "execution_count": 14,
   "metadata": {},
   "outputs": [],
   "source": [
    "train = pd.read_csv('data/churn_train.csv')\n",
    "train = target_pipe.transform(train)"
   ]
  },
  {
   "cell_type": "markdown",
   "metadata": {},
   "source": [
    "This pipeline will take the full data set we've created and perform all the data cleansing and feature selection required before training and testing our model. But first, we'll perform a train-test split."
   ]
  },
  {
   "cell_type": "code",
   "execution_count": 15,
   "metadata": {},
   "outputs": [],
   "source": [
    "y = train['churned'].copy()\n",
    "X = train.copy()\n",
    "\n",
    "# Train-test split\n",
    "X_train, X_test, y_train, y_test = train_test_split(X, y, test_size=0.33, random_state=916)"
   ]
  },
  {
   "cell_type": "markdown",
   "metadata": {},
   "source": [
    "> **Note:** we don't have to worry about feature selection here as this will be handled in the pipeline"
   ]
  },
  {
   "cell_type": "markdown",
   "metadata": {},
   "source": [
    "## Create Pipeline"
   ]
  },
  {
   "cell_type": "markdown",
   "metadata": {},
   "source": [
    "First, here is a sample of the uncleaned data.\n",
    "\n",
    "**Note:** the number and names of features included, `NaN` values some of the features, and categorical features containing text values."
   ]
  },
  {
   "cell_type": "code",
   "execution_count": 16,
   "metadata": {},
   "outputs": [
    {
     "data": {
      "text/html": [
       "<div>\n",
       "<style>\n",
       "    .dataframe thead tr:only-child th {\n",
       "        text-align: right;\n",
       "    }\n",
       "\n",
       "    .dataframe thead th {\n",
       "        text-align: left;\n",
       "    }\n",
       "\n",
       "    .dataframe tbody tr th {\n",
       "        vertical-align: top;\n",
       "    }\n",
       "</style>\n",
       "<table border=\"1\" class=\"dataframe\">\n",
       "  <thead>\n",
       "    <tr style=\"text-align: right;\">\n",
       "      <th></th>\n",
       "      <th>avg_dist</th>\n",
       "      <th>avg_rating_by_driver</th>\n",
       "      <th>avg_rating_of_driver</th>\n",
       "      <th>avg_surge</th>\n",
       "      <th>city</th>\n",
       "      <th>last_trip_date</th>\n",
       "      <th>phone</th>\n",
       "      <th>signup_date</th>\n",
       "      <th>surge_pct</th>\n",
       "      <th>trips_in_first_30_days</th>\n",
       "      <th>luxury_car_user</th>\n",
       "      <th>weekday_pct</th>\n",
       "      <th>last_trip_dt</th>\n",
       "      <th>signup_dt</th>\n",
       "      <th>today_dt</th>\n",
       "      <th>inactive_timedelta</th>\n",
       "      <th>inactive_days</th>\n",
       "      <th>churned</th>\n",
       "    </tr>\n",
       "  </thead>\n",
       "  <tbody>\n",
       "    <tr>\n",
       "      <th>0</th>\n",
       "      <td>6.94</td>\n",
       "      <td>5.0</td>\n",
       "      <td>5.0</td>\n",
       "      <td>1.00</td>\n",
       "      <td>Astapor</td>\n",
       "      <td>2014-05-03</td>\n",
       "      <td>Android</td>\n",
       "      <td>2014-01-12</td>\n",
       "      <td>0.0</td>\n",
       "      <td>0</td>\n",
       "      <td>0</td>\n",
       "      <td>100.0</td>\n",
       "      <td>2014-05-03</td>\n",
       "      <td>2014-01-12</td>\n",
       "      <td>2014-07-01</td>\n",
       "      <td>59 days</td>\n",
       "      <td>59</td>\n",
       "      <td>1.0</td>\n",
       "    </tr>\n",
       "    <tr>\n",
       "      <th>1</th>\n",
       "      <td>8.06</td>\n",
       "      <td>5.0</td>\n",
       "      <td>5.0</td>\n",
       "      <td>1.00</td>\n",
       "      <td>Astapor</td>\n",
       "      <td>2014-01-26</td>\n",
       "      <td>Android</td>\n",
       "      <td>2014-01-25</td>\n",
       "      <td>0.0</td>\n",
       "      <td>2</td>\n",
       "      <td>1</td>\n",
       "      <td>0.0</td>\n",
       "      <td>2014-01-26</td>\n",
       "      <td>2014-01-25</td>\n",
       "      <td>2014-07-01</td>\n",
       "      <td>156 days</td>\n",
       "      <td>156</td>\n",
       "      <td>1.0</td>\n",
       "    </tr>\n",
       "    <tr>\n",
       "      <th>2</th>\n",
       "      <td>21.50</td>\n",
       "      <td>4.0</td>\n",
       "      <td>NaN</td>\n",
       "      <td>1.00</td>\n",
       "      <td>Winterfell</td>\n",
       "      <td>2014-05-21</td>\n",
       "      <td>iPhone</td>\n",
       "      <td>2014-01-02</td>\n",
       "      <td>0.0</td>\n",
       "      <td>1</td>\n",
       "      <td>1</td>\n",
       "      <td>100.0</td>\n",
       "      <td>2014-05-21</td>\n",
       "      <td>2014-01-02</td>\n",
       "      <td>2014-07-01</td>\n",
       "      <td>41 days</td>\n",
       "      <td>41</td>\n",
       "      <td>1.0</td>\n",
       "    </tr>\n",
       "    <tr>\n",
       "      <th>3</th>\n",
       "      <td>9.46</td>\n",
       "      <td>5.0</td>\n",
       "      <td>NaN</td>\n",
       "      <td>2.75</td>\n",
       "      <td>Winterfell</td>\n",
       "      <td>2014-01-10</td>\n",
       "      <td>Android</td>\n",
       "      <td>2014-01-09</td>\n",
       "      <td>100.0</td>\n",
       "      <td>1</td>\n",
       "      <td>0</td>\n",
       "      <td>100.0</td>\n",
       "      <td>2014-01-10</td>\n",
       "      <td>2014-01-09</td>\n",
       "      <td>2014-07-01</td>\n",
       "      <td>172 days</td>\n",
       "      <td>172</td>\n",
       "      <td>1.0</td>\n",
       "    </tr>\n",
       "    <tr>\n",
       "      <th>4</th>\n",
       "      <td>13.77</td>\n",
       "      <td>5.0</td>\n",
       "      <td>NaN</td>\n",
       "      <td>1.00</td>\n",
       "      <td>Winterfell</td>\n",
       "      <td>2014-05-13</td>\n",
       "      <td>iPhone</td>\n",
       "      <td>2014-01-31</td>\n",
       "      <td>0.0</td>\n",
       "      <td>0</td>\n",
       "      <td>0</td>\n",
       "      <td>100.0</td>\n",
       "      <td>2014-05-13</td>\n",
       "      <td>2014-01-31</td>\n",
       "      <td>2014-07-01</td>\n",
       "      <td>49 days</td>\n",
       "      <td>49</td>\n",
       "      <td>1.0</td>\n",
       "    </tr>\n",
       "  </tbody>\n",
       "</table>\n",
       "</div>"
      ],
      "text/plain": [
       "   avg_dist  avg_rating_by_driver  avg_rating_of_driver  avg_surge  \\\n",
       "0      6.94                   5.0                   5.0       1.00   \n",
       "1      8.06                   5.0                   5.0       1.00   \n",
       "2     21.50                   4.0                   NaN       1.00   \n",
       "3      9.46                   5.0                   NaN       2.75   \n",
       "4     13.77                   5.0                   NaN       1.00   \n",
       "\n",
       "         city last_trip_date    phone signup_date  surge_pct  \\\n",
       "0     Astapor     2014-05-03  Android  2014-01-12        0.0   \n",
       "1     Astapor     2014-01-26  Android  2014-01-25        0.0   \n",
       "2  Winterfell     2014-05-21   iPhone  2014-01-02        0.0   \n",
       "3  Winterfell     2014-01-10  Android  2014-01-09      100.0   \n",
       "4  Winterfell     2014-05-13   iPhone  2014-01-31        0.0   \n",
       "\n",
       "   trips_in_first_30_days  luxury_car_user  weekday_pct last_trip_dt  \\\n",
       "0                       0                0        100.0   2014-05-03   \n",
       "1                       2                1          0.0   2014-01-26   \n",
       "2                       1                1        100.0   2014-05-21   \n",
       "3                       1                0        100.0   2014-01-10   \n",
       "4                       0                0        100.0   2014-05-13   \n",
       "\n",
       "   signup_dt   today_dt inactive_timedelta  inactive_days  churned  \n",
       "0 2014-01-12 2014-07-01            59 days             59      1.0  \n",
       "1 2014-01-25 2014-07-01           156 days            156      1.0  \n",
       "2 2014-01-02 2014-07-01            41 days             41      1.0  \n",
       "3 2014-01-09 2014-07-01           172 days            172      1.0  \n",
       "4 2014-01-31 2014-07-01            49 days             49      1.0  "
      ]
     },
     "execution_count": 16,
     "metadata": {},
     "output_type": "execute_result"
    }
   ],
   "source": [
    "X.head()"
   ]
  },
  {
   "cell_type": "markdown",
   "metadata": {},
   "source": [
    "Create a pipeline for feature cleaning only:"
   ]
  },
  {
   "cell_type": "code",
   "execution_count": 17,
   "metadata": {},
   "outputs": [],
   "source": [
    "cleaning_pipe = Pipeline([\n",
    "    ('SelectFeats', SelectFeaturesTransformer()), \n",
    "    ('FillFeats', FillTransformer()),\n",
    "    ('OneHot', OneHotTransformer()),\n",
    "    ('DeriveFeats', DeriveFeaturesTransformer()),\n",
    "])"
   ]
  },
  {
   "cell_type": "markdown",
   "metadata": {},
   "source": [
    "Sample of the cleaned dataset.\n",
    "\n",
    "**Note:** the reduced feature count, the imputed values in place of `NaN`, and the encoded dummy variables in place of our old categorical variables e.g. cities."
   ]
  },
  {
   "cell_type": "code",
   "execution_count": 18,
   "metadata": {},
   "outputs": [
    {
     "data": {
      "text/html": [
       "<div>\n",
       "<style>\n",
       "    .dataframe thead tr:only-child th {\n",
       "        text-align: right;\n",
       "    }\n",
       "\n",
       "    .dataframe thead th {\n",
       "        text-align: left;\n",
       "    }\n",
       "\n",
       "    .dataframe tbody tr th {\n",
       "        vertical-align: top;\n",
       "    }\n",
       "</style>\n",
       "<table border=\"1\" class=\"dataframe\">\n",
       "  <thead>\n",
       "    <tr style=\"text-align: right;\">\n",
       "      <th></th>\n",
       "      <th>avg_dist</th>\n",
       "      <th>avg_rating_by_driver</th>\n",
       "      <th>avg_rating_of_driver</th>\n",
       "      <th>avg_surge</th>\n",
       "      <th>surge_pct</th>\n",
       "      <th>trips_in_first_30_days</th>\n",
       "      <th>luxury_car_user</th>\n",
       "      <th>weekday_pct</th>\n",
       "      <th>astapor</th>\n",
       "      <th>king's landing</th>\n",
       "      <th>android</th>\n",
       "      <th>always_surge_users</th>\n",
       "    </tr>\n",
       "  </thead>\n",
       "  <tbody>\n",
       "    <tr>\n",
       "      <th>0</th>\n",
       "      <td>6.94</td>\n",
       "      <td>5.0</td>\n",
       "      <td>5.0</td>\n",
       "      <td>1.00</td>\n",
       "      <td>0.0</td>\n",
       "      <td>0</td>\n",
       "      <td>0</td>\n",
       "      <td>100.0</td>\n",
       "      <td>1</td>\n",
       "      <td>0</td>\n",
       "      <td>1</td>\n",
       "      <td>0.0</td>\n",
       "    </tr>\n",
       "    <tr>\n",
       "      <th>1</th>\n",
       "      <td>8.06</td>\n",
       "      <td>5.0</td>\n",
       "      <td>5.0</td>\n",
       "      <td>1.00</td>\n",
       "      <td>0.0</td>\n",
       "      <td>2</td>\n",
       "      <td>1</td>\n",
       "      <td>0.0</td>\n",
       "      <td>1</td>\n",
       "      <td>0</td>\n",
       "      <td>1</td>\n",
       "      <td>0.0</td>\n",
       "    </tr>\n",
       "    <tr>\n",
       "      <th>2</th>\n",
       "      <td>21.50</td>\n",
       "      <td>4.0</td>\n",
       "      <td>-1.0</td>\n",
       "      <td>1.00</td>\n",
       "      <td>0.0</td>\n",
       "      <td>1</td>\n",
       "      <td>1</td>\n",
       "      <td>100.0</td>\n",
       "      <td>0</td>\n",
       "      <td>0</td>\n",
       "      <td>0</td>\n",
       "      <td>0.0</td>\n",
       "    </tr>\n",
       "    <tr>\n",
       "      <th>3</th>\n",
       "      <td>9.46</td>\n",
       "      <td>5.0</td>\n",
       "      <td>-1.0</td>\n",
       "      <td>2.75</td>\n",
       "      <td>100.0</td>\n",
       "      <td>1</td>\n",
       "      <td>0</td>\n",
       "      <td>100.0</td>\n",
       "      <td>0</td>\n",
       "      <td>0</td>\n",
       "      <td>1</td>\n",
       "      <td>1.0</td>\n",
       "    </tr>\n",
       "    <tr>\n",
       "      <th>4</th>\n",
       "      <td>13.77</td>\n",
       "      <td>5.0</td>\n",
       "      <td>-1.0</td>\n",
       "      <td>1.00</td>\n",
       "      <td>0.0</td>\n",
       "      <td>0</td>\n",
       "      <td>0</td>\n",
       "      <td>100.0</td>\n",
       "      <td>0</td>\n",
       "      <td>0</td>\n",
       "      <td>0</td>\n",
       "      <td>0.0</td>\n",
       "    </tr>\n",
       "  </tbody>\n",
       "</table>\n",
       "</div>"
      ],
      "text/plain": [
       "   avg_dist  avg_rating_by_driver  avg_rating_of_driver  avg_surge  surge_pct  \\\n",
       "0      6.94                   5.0                   5.0       1.00        0.0   \n",
       "1      8.06                   5.0                   5.0       1.00        0.0   \n",
       "2     21.50                   4.0                  -1.0       1.00        0.0   \n",
       "3      9.46                   5.0                  -1.0       2.75      100.0   \n",
       "4     13.77                   5.0                  -1.0       1.00        0.0   \n",
       "\n",
       "   trips_in_first_30_days  luxury_car_user  weekday_pct  astapor  \\\n",
       "0                       0                0        100.0        1   \n",
       "1                       2                1          0.0        1   \n",
       "2                       1                1        100.0        0   \n",
       "3                       1                0        100.0        0   \n",
       "4                       0                0        100.0        0   \n",
       "\n",
       "   king's landing  android  always_surge_users  \n",
       "0               0        1                 0.0  \n",
       "1               0        1                 0.0  \n",
       "2               0        0                 0.0  \n",
       "3               0        1                 1.0  \n",
       "4               0        0                 0.0  "
      ]
     },
     "execution_count": 18,
     "metadata": {},
     "output_type": "execute_result"
    }
   ],
   "source": [
    "cleaning_pipe.fit_transform(X).head()"
   ]
  },
  {
   "cell_type": "markdown",
   "metadata": {},
   "source": [
    "Finally, create a full feature transformation and estimation pipeline which we'll actually use for cleaning and predicting values."
   ]
  },
  {
   "cell_type": "code",
   "execution_count": 19,
   "metadata": {},
   "outputs": [],
   "source": [
    "pipe = Pipeline([\n",
    "    ('SelectFeats', SelectFeaturesTransformer()),\n",
    "    ('FillFeats', FillTransformer()),\n",
    "    ('OneHot', OneHotTransformer()),\n",
    "    ('DeriveFeats', DeriveFeaturesTransformer()),\n",
    "    ('XGBoostClass', XGBClassifier())  # final step is our estimator\n",
    "])"
   ]
  },
  {
   "cell_type": "markdown",
   "metadata": {},
   "source": [
    "## Grid Search\n",
    "Here, we grid search over the all the possible combintations of provided hyper-parameters to try and identify the best combination of parameters for our scoring metric.\n",
    "\n",
    "**Model hyper-parameters:**\n",
    "* `max_depth` - the maximum depth of each decision tree estimator in the ensemble. These values are kept low as each tree should be a slow learner that can be aggregated later\n",
    "* `n_estimators` - the number of decision tree estimators to evaluate in this ensemble model\n",
    "* `learning_rate` - a tuning value to adjust the degree to which subsequent estimators in the ensemble are tuned to the error of the previous model. A lower learning rate typically results in higher accuracy, but requires more iterations\n",
    "\n",
    "**Grid Search parameters:**\n",
    "* `pipe` - the estimator to search over; in this case it's our pipeline\n",
    "* `param_grid` - the hyper-parameter values to grid search over\n",
    "* `cv` - the number of cross-validations to perform on each model + hyper-parameter combination\n",
    "* `n_jobs` - enables parallelization"
   ]
  },
  {
   "cell_type": "code",
   "execution_count": 20,
   "metadata": {},
   "outputs": [],
   "source": [
    "# Hyper-parameters\n",
    "params = {'XGBoostClass__max_depth': [3],\n",
    "          'XGBoostClass__n_estimators': [100, 500, 1000],\n",
    "          'XGBoostClass__learning_rate': [1, 0.1, 0.03, 0.001]}\n",
    "\n",
    "# Grid Search\n",
    "gscv = GridSearchCV(pipe, \n",
    "                    param_grid=params,\n",
    "                    cv=10,\n",
    "                    n_jobs=-1\n",
    "                   )\n",
    "\n",
    "# Perform grid search, then make predictions using best model\n",
    "clf = gscv.fit(X_train, y_train)\n",
    "y_pred = clf.predict(X_test)"
   ]
  },
  {
   "cell_type": "markdown",
   "metadata": {},
   "source": [
    "Scoring:"
   ]
  },
  {
   "cell_type": "code",
   "execution_count": 21,
   "metadata": {},
   "outputs": [
    {
     "name": "stdout",
     "output_type": "stream",
     "text": [
      "Best params: {'XGBoostClass__learning_rate': 0.1, 'XGBoostClass__max_depth': 3, 'XGBoostClass__n_estimators': 500}\n",
      "\n",
      "              precision    recall  f1-score   support\n",
      "\n",
      "         0.0       0.76      0.68      0.72      4996\n",
      "         1.0       0.82      0.87      0.84      8204\n",
      "\n",
      "   micro avg       0.80      0.80      0.80     13200\n",
      "   macro avg       0.79      0.77      0.78     13200\n",
      "weighted avg       0.80      0.80      0.80     13200\n",
      "\n",
      "\n",
      "Accuracy Score: 0.80\n"
     ]
    }
   ],
   "source": [
    "print('Best params: {}\\n'.format(clf.best_params_))\n",
    "\n",
    "print(classification_report(y_test, y_pred))\n",
    "print('\\nAccuracy Score: {:.2f}'.format(accuracy_score(y_test, y_pred)))"
   ]
  },
  {
   "cell_type": "markdown",
   "metadata": {},
   "source": [
    "## Train and Test Final Model\n",
    "After the best model and hyper-parameters have been selected and cross-validated, we'll create a new instance of that model and train it on all of our available training data. This is one of the final steps in our training process and allows us to take advantage of all the training data we have available before performing a final test against our test set."
   ]
  },
  {
   "cell_type": "code",
   "execution_count": 22,
   "metadata": {},
   "outputs": [],
   "source": [
    "p_xgb = Pipeline([\n",
    "    ('SelectFeats', SelectFeaturesTransformer()),\n",
    "    ('FillFeats', FillTransformer()),\n",
    "    ('DeriveFeats', DeriveFeaturesTransformer()),\n",
    "    ('OneHot', OneHotTransformer()),\n",
    "    ('XGBoostClass', XGBClassifier(max_depth=3, n_estimators=500, learning_rate=0.1))\n",
    "])\n",
    "\n",
    "xgb_final = p_xgb.fit(X, y)"
   ]
  },
  {
   "cell_type": "markdown",
   "metadata": {},
   "source": [
    "Measure model performance using the held-out test set"
   ]
  },
  {
   "cell_type": "code",
   "execution_count": 23,
   "metadata": {},
   "outputs": [
    {
     "name": "stdout",
     "output_type": "stream",
     "text": [
      "              precision    recall  f1-score   support\n",
      "\n",
      "         0.0       0.74      0.66      0.70      3772\n",
      "         1.0       0.81      0.86      0.83      6228\n",
      "\n",
      "   micro avg       0.78      0.78      0.78     10000\n",
      "   macro avg       0.77      0.76      0.76     10000\n",
      "weighted avg       0.78      0.78      0.78     10000\n",
      "\n",
      "\n",
      "Accuracy Score: 0.78\n"
     ]
    }
   ],
   "source": [
    "# Load and prepare test data\n",
    "test = pd.read_csv('data/churn_test.csv')\n",
    "test = target_pipe.transform(test)\n",
    "\n",
    "# Move into pipeline\n",
    "test_y = test['churned'].copy()\n",
    "test_X = test.copy()\n",
    "\n",
    "# Model predictions\n",
    "y_pred = p_xgb.predict(test_X)\n",
    "y_prob = p_xgb.predict_proba(test_X)[:, 1]  # take probabilities of pos. class only\n",
    "\n",
    "# Find accuracy of hold-out test\n",
    "print(classification_report(test_y, y_pred))\n",
    "print('\\nAccuracy Score: {:.2f}'.format(accuracy_score(test_y, y_pred)))"
   ]
  },
  {
   "cell_type": "markdown",
   "metadata": {},
   "source": [
    "## Assessing Model Performance"
   ]
  },
  {
   "cell_type": "markdown",
   "metadata": {},
   "source": [
    "Choosing the best scoring metric for the business case is crucially important. When evaluating a binary classification model (such as this one) where the costs of predictions such as **True Positives vs. False Negatives** can have significantly different costs, it's important to optimize for the metric that will have the greatest cost to benefit ratio.\n",
    "\n",
    "In our case, the cost of losing a customer because we incorrectly predicted wouldn't churn (False Negative) is significantly greater than the cost of incorrectly predicting they would churn and taking some mitigating action, such as a targeted promotion.\n",
    "\n",
    "*How big is that cost?* That will require a dicussion with the business to formalize those costs, but here we'll make some estimations so that we can generate a cost-benefit analysis useful for tuning our model \"sensitivity\", known as the threshold.\n",
    "\n",
    "But first! Let's evaluate basic model performance."
   ]
  },
  {
   "cell_type": "markdown",
   "metadata": {},
   "source": [
    "### ROC Curve and AUC"
   ]
  },
  {
   "cell_type": "code",
   "execution_count": 24,
   "metadata": {},
   "outputs": [],
   "source": [
    "from sklearn.metrics import auc, roc_curve\n",
    "from src.pipeline import plot_roc"
   ]
  },
  {
   "cell_type": "markdown",
   "metadata": {},
   "source": [
    "The ROC Curve shows the rate of the model false positive by true positive predictions over a range of threshold values, from 0 to 1. Here, it is used to quantify the predicitve power of this model using the characteristic statistic, AUC (Area Under the Curve).\n",
    "\n",
    "**Additional info:** [ROC Curves](https://machinelearningmastery.com/roc-curves-and-precision-recall-curves-for-classification-in-python/)"
   ]
  },
  {
   "cell_type": "code",
   "execution_count": 25,
   "metadata": {},
   "outputs": [
    {
     "data": {
      "image/png": "[encoded data removed]",
      "text/plain": [
       "<Figure size 432x432 with 1 Axes>"
      ]
     },
     "metadata": {
      "needs_background": "light"
     },
     "output_type": "display_data"
    }
   ],
   "source": [
    "# Compute ROC and AUC\n",
    "fpr, tpr, thresholds = roc_curve(y_true=test_y, y_score=y_prob)\n",
    "auc_score = auc(fpr, tpr)\n",
    "\n",
    "plot_roc(fpr, tpr, auc_score)"
   ]
  },
  {
   "cell_type": "markdown",
   "metadata": {},
   "source": [
    "This ROC and AUC show a rather even ability for the model to differntiate the two predicted classes with 86% probability.\n",
    "\n",
    "While these results are well within the threshold of signifigance for predictive power, we'll try to improve them though further model tuning."
   ]
  },
  {
   "cell_type": "markdown",
   "metadata": {},
   "source": [
    "### Profit Curve"
   ]
  },
  {
   "cell_type": "code",
   "execution_count": 26,
   "metadata": {},
   "outputs": [],
   "source": [
    "from sklearn.metrics import confusion_matrix"
   ]
  },
  {
   "cell_type": "markdown",
   "metadata": {},
   "source": [
    "Define a cost benefit matrix\n",
    "Multiply it with confusion matrix\n",
    "\n",
    "Optimize model treshold\n",
    "Find the treshold that maximizes profit\n",
    "\n",
    "treshold for probability of positive.\n",
    "\n",
    "In terms of defining the cost benefit matrix, we have no model and as a result we predict negative\n",
    "because we are not capable to identify churn without a model.\n",
    "\n",
    "Assumptions:\n",
    "* CV for 6 months -- > $ 250 / customer\n",
    "\n",
    "* Mitigating action(sending promotional coupons and calls) -- > -$ 200 / customer\n",
    "\n",
    "* Incorrectly predicting that a customer will churn and sending a coupon may annoy them and cause them to \n",
    "\n",
    "churn 4 months early --> probablity of 0.05"
   ]
  },
  {
   "cell_type": "code",
   "execution_count": 27,
   "metadata": {},
   "outputs": [
    {
     "data": {
      "text/plain": [
       "array([[250,   0],\n",
       "       [-60,   0]])"
      ]
     },
     "execution_count": 27,
     "metadata": {},
     "output_type": "execute_result"
    }
   ],
   "source": [
    "#                     tp fn      fp tn\n",
    "cost_mat = np.array([[250, 0], [-60, 0]])\n",
    "cost_mat\n",
    "\n",
    "#huge mistake here tp actually = 250 - 200 because we react positive predictions"
   ]
  },
  {
   "cell_type": "code",
   "execution_count": 28,
   "metadata": {},
   "outputs": [],
   "source": [
    "treshholds = np.linspace(0,1,100)"
   ]
  },
  {
   "cell_type": "code",
   "execution_count": 29,
   "metadata": {},
   "outputs": [],
   "source": [
    "expected_total_profit = []\n",
    "for t in treshholds:\n",
    "    predictions = (y_prob > t).astype(int)\n",
    "    tn, fp, fn, tp = confusion_matrix(test_y, predictions).ravel()\n",
    "    conf_mat = np.array([[tp, fn], [fp, tn]])\n",
    "    expected_total_profit.append((conf_mat * cost_mat).sum())\n"
   ]
  },
  {
   "cell_type": "code",
   "execution_count": 30,
   "metadata": {},
   "outputs": [],
   "source": [
    "maximum_expected_profit_index = np.argsort(np.array(expected_total_profit))[-1]"
   ]
  },
  {
   "cell_type": "code",
   "execution_count": 31,
   "metadata": {},
   "outputs": [
    {
     "data": {
      "text/plain": [
       "20"
      ]
     },
     "execution_count": 31,
     "metadata": {},
     "output_type": "execute_result"
    }
   ],
   "source": [
    "maximum_expected_profit_index\n"
   ]
  },
  {
   "cell_type": "code",
   "execution_count": 32,
   "metadata": {},
   "outputs": [
    {
     "data": {
      "text/plain": [
       "1368330"
      ]
     },
     "execution_count": 32,
     "metadata": {},
     "output_type": "execute_result"
    }
   ],
   "source": [
    "expected_total_profit[maximum_expected_profit_index]"
   ]
  },
  {
   "cell_type": "markdown",
   "metadata": {},
   "source": [
    "tn, fp, fn, tp"
   ]
  },
  {
   "cell_type": "code",
   "execution_count": 33,
   "metadata": {},
   "outputs": [
    {
     "data": {
      "text/plain": [
       "array([[5355,  873],\n",
       "       [1290, 2482]])"
      ]
     },
     "execution_count": 33,
     "metadata": {},
     "output_type": "execute_result"
    }
   ],
   "source": [
    "tn, fp, fn, tp = confusion_matrix(test_y, y_pred).ravel()\n",
    "conf_mat = np.array([[tp, fn], [fp, tn]])\n",
    "conf_mat"
   ]
  },
  {
   "cell_type": "markdown",
   "metadata": {},
   "source": [
    "Lets see how the expected profit changes over increasing tresholds."
   ]
  },
  {
   "cell_type": "code",
   "execution_count": 34,
   "metadata": {},
   "outputs": [
    {
     "name": "stdout",
     "output_type": "stream",
     "text": [
      "Treshold that gives the highest expected profit:0.20202020202020204\n"
     ]
    },
    {
     "data": {
      "image/png": "[encoded data removed]",
      "text/plain": [
       "<Figure size 432x432 with 1 Axes>"
      ]
     },
     "metadata": {
      "needs_background": "light"
     },
     "output_type": "display_data"
    }
   ],
   "source": [
    "plt.figure(figsize=(6,6))\n",
    "plt.plot(treshholds, expected_total_profit, label='XGBoost Classifier')\n",
    "plt.xlabel('Tresholds')\n",
    "plt.ylabel('Expected Profit')\n",
    "plt.axvline(treshholds[maximum_expected_profit_index])\n",
    "print(f'Treshold that gives the highest expected profit:{treshholds[maximum_expected_profit_index]}')"
   ]
  },
  {
   "cell_type": "markdown",
   "metadata": {},
   "source": [
    "By varying the threshold, the model says \"let's classify every customer with a score above the threshold as a 'churner' and everyone below it as a 'non-churner\", then profit is calculated for each treshold. "
   ]
  },
  {
   "cell_type": "code",
   "execution_count": 52,
   "metadata": {},
   "outputs": [
    {
     "data": {
      "text/plain": [
       "0.8613"
      ]
     },
     "execution_count": 52,
     "metadata": {},
     "output_type": "execute_result"
    }
   ],
   "source": [
    "(y_prob > 0.202).mean()"
   ]
  },
  {
   "cell_type": "markdown",
   "metadata": {},
   "source": [
    "## Finding Feature Importance\n",
    "\n",
    "(seaborn)"
   ]
  },
  {
   "cell_type": "code",
   "execution_count": 35,
   "metadata": {},
   "outputs": [],
   "source": [
    "from seaborn import barplot\n",
    "from sklearn.metrics import roc_curve, auc"
   ]
  },
  {
   "cell_type": "markdown",
   "metadata": {},
   "source": [
    "Find feature importances"
   ]
  },
  {
   "cell_type": "code",
   "execution_count": 40,
   "metadata": {},
   "outputs": [
    {
     "data": {
      "image/png": "[encoded data removed]",
      "text/plain": [
       "<Figure size 1440x432 with 1 Axes>"
      ]
     },
     "metadata": {
      "needs_background": "light"
     },
     "output_type": "display_data"
    }
   ],
   "source": [
    "feat_imps = p_xgb.named_steps['XGBoostClass'].feature_importances_\n",
    "feats = p_xgb.named_steps['OneHot'].train_columns\n",
    "\n",
    "plt.figure(figsize=(20,6))\n",
    "barplot(data=pd.DataFrame([feat_imps], columns=feats));"
   ]
  },
  {
   "cell_type": "markdown",
   "metadata": {},
   "source": [
    "..."
   ]
  },
  {
   "cell_type": "markdown",
   "metadata": {},
   "source": [
    "Weekday percentage presents high importance in accordance to the graph in hand.\n",
    "On the other hand its consiredably high feature importance may be due to customers who used the service only once. \n",
    "\n",
    "Note: Followup and find ways to identify those users who used the service only once(because we should not consider that as churn). \n",
    "\n",
    "Additional information about finding feature importances of the model:\n",
    "This methadology shows solid evidence of which features matter more to predict our target.\n",
    "Yet it does not present any insights about the direction of the feature importance.\n",
    "In other words we are not informed whether the correlation between avg_distance and probability of\n",
    "churn is positive or negative. \n",
    "\n",
    "***note2: write short analisis about other features too and consider to position this part at EDA***"
   ]
  }
 ],
 "metadata": {
  "colab": {
   "name": "churn_case_study_plan.ipynb",
   "provenance": [],
   "version": "0.3.2"
  },
  "kernelspec": {
   "display_name": "Python 3",
   "language": "python",
   "name": "python3"
  },
  "language_info": {
   "codemirror_mode": {
    "name": "ipython",
    "version": 3
   },
   "file_extension": ".py",
   "mimetype": "text/x-python",
   "name": "python",
   "nbconvert_exporter": "python",
   "pygments_lexer": "ipython3",
   "version": "3.6.3"
  }
 },
 "nbformat": 4,
 "nbformat_minor": 2
}
